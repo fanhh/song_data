{
 "cells": [
  {
   "cell_type": "code",
   "execution_count": null,
   "id": "b6395ae1",
   "metadata": {},
   "outputs": [],
   "source": [
    "from itertools import permutations\n",
    "import os\n",
    "from IPython.display import Audio\n",
    "import random"
   ]
  },
  {
   "cell_type": "markdown",
   "id": "5fdf3a07",
   "metadata": {},
   "source": [
    "The code below read all the wav files in the song dir into a list of array/ If new songs are added then you must rerun the entire notebook to recreate all permutations"
   ]
  },
  {
   "cell_type": "code",
   "execution_count": null,
   "id": "d363595e",
   "metadata": {},
   "outputs": [],
   "source": [
    "song_list = os.listdir('songs')"
   ]
  },
  {
   "cell_type": "code",
   "execution_count": null,
   "id": "cbd55954",
   "metadata": {},
   "outputs": [],
   "source": [
    "song_list"
   ]
  },
  {
   "cell_type": "markdown",
   "id": "39e3ff45",
   "metadata": {},
   "source": [
    "The code below creats a all possible permurations of all songs"
   ]
  },
  {
   "cell_type": "code",
   "execution_count": null,
   "id": "6f97d010",
   "metadata": {},
   "outputs": [],
   "source": [
    "all_perm = list(permutations(song_list))\n",
    "all_perm"
   ]
  },
  {
   "cell_type": "markdown",
   "id": "391e3b71",
   "metadata": {},
   "source": [
    "The code below plays all the permutations audio files"
   ]
  },
  {
   "cell_type": "code",
   "execution_count": null,
   "id": "44992e8c",
   "metadata": {},
   "outputs": [],
   "source": [
    "for perm in all_perm:\n",
    "    for song in perm:\n",
    "        display(Audio(f'songs/{song}'))"
   ]
  },
  {
   "cell_type": "markdown",
   "id": "b9461a84",
   "metadata": {},
   "source": [
    "Randomly chose a song to play"
   ]
  },
  {
   "cell_type": "code",
   "execution_count": null,
   "id": "87f4c70b",
   "metadata": {},
   "outputs": [],
   "source": [
    "display(Audio(f'songs/{random.choice(song_list)}'))"
   ]
  },
  {
   "cell_type": "code",
   "execution_count": null,
   "id": "6009ef72",
   "metadata": {},
   "outputs": [],
   "source": []
  },
  {
   "cell_type": "code",
   "execution_count": null,
   "id": "dfb812d5",
   "metadata": {},
   "outputs": [],
   "source": []
  }
 ],
 "metadata": {
  "kernelspec": {
   "display_name": "Python 3 (ipykernel)",
   "language": "python",
   "name": "python3"
  },
  "language_info": {
   "codemirror_mode": {
    "name": "ipython",
    "version": 3
   },
   "file_extension": ".py",
   "mimetype": "text/x-python",
   "name": "python",
   "nbconvert_exporter": "python",
   "pygments_lexer": "ipython3",
   "version": "3.9.13"
  }
 },
 "nbformat": 4,
 "nbformat_minor": 5
}
